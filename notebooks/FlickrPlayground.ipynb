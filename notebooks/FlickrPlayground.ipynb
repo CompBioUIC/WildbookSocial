{
 "cells": [
  {
   "cell_type": "markdown",
   "source": [
    "# Flickr API - Data Collection"
   ],
   "metadata": {}
  },
  {
   "cell_type": "markdown",
   "source": [
    "## Setup"
   ],
   "metadata": {}
  },
  {
   "cell_type": "code",
   "execution_count": 1,
   "source": [
    "#to reflect changes made in modules\n",
    "%load_ext autoreload\n",
    "%autoreload 2"
   ],
   "outputs": [],
   "metadata": {
    "scrolled": true
   }
  },
  {
   "cell_type": "markdown",
   "source": [
    "## Keys + Requirements "
   ],
   "metadata": {}
  },
  {
   "cell_type": "code",
   "execution_count": 7,
   "source": [
    "#connect to database here\n",
    "DB_KEY =  None "
   ],
   "outputs": [],
   "metadata": {
    "scrolled": true
   }
  },
  {
   "cell_type": "code",
   "execution_count": 8,
   "source": [
    "import os, sys\n",
    "# sys.path.append(os.path.join(sys.path[0], '../'))\n",
    "sys.path.append(os.path.join(os.path.abspath(os.getcwd()), '../'))\n",
    "\n",
    "#distance visualization\n",
    "import plotly.graph_objects as go\n",
    "import plotly.io as pio\n",
    "import numpy as np\n",
    "from itertools import chain\n",
    "import pandas as pd\n",
    "import matplotlib.pyplot as plt\n",
    "\n",
    "#file imports\n",
    "from wildbook_social import Flickr, Database, Visualize, Geospatial\n",
    "\n",
    "db = Database(DB_KEY, 'flickr_june_2019')\n",
    "fr = Flickr(db)\n",
    "nameOfDb = 'flickr_june_2019'\n",
    "\n",
    "db_obj = db.getDB()\n",
    "vs = Visualize(db_obj, nameOfDb)\n",
    "geo = Geospatial(db_obj)"
   ],
   "outputs": [],
   "metadata": {
    "scrolled": true
   }
  },
  {
   "cell_type": "markdown",
   "source": [
    "# General Query Terms"
   ],
   "metadata": {}
  },
  {
   "cell_type": "markdown",
   "source": [
    "#### Terms that consist of more general, common, everyday names for species "
   ],
   "metadata": {}
  },
  {
   "cell_type": "markdown",
   "source": [
    "Parameters\n",
    "- query = query term to use with flickr api to get image results\n",
    "- saveTo = collection results are saved to\n",
    "- query_bbox = bounding box coordinates parameter for flickr api"
   ],
   "metadata": {}
  },
  {
   "cell_type": "code",
   "execution_count": 9,
   "source": [
    "query = \"whale\"\n",
    "saveTo = 'humpback whale general - none'\n",
    "query_bbox = False\n",
    "#---------------------------------------------------------------------------#\n",
    "\n",
    "# no general query terms for whale shark, specific only (next cell)\n",
    "\n",
    "#---------------------------------------------------------------------------#\n",
    "# query = 'lynx' \n",
    "# saveTo = 'iberian lynx general' \n",
    "# query_bbox = False\n",
    "\n",
    "# query = 'lynx, lince' \n",
    "# saveTo = 'iberian lynx general multilingual'\n",
    "# query_bbox = False\n",
    "\n",
    "##not searching with bbox bc limits our results by a significant amount\n",
    "#---------------------------------------------------------------------------#\n",
    "# query = 'giraffe'\n",
    "# saveTo = 'reticulated giraffe general'\n",
    "# query_bbox = False\n",
    "\n",
    "# query = 'giraffe'\n",
    "# saveTo = 'reticulated giraffe general africa bbox'\n",
    "# query_bbox = '-18.615646,-34.936608,50.993729,35.266926'\n",
    "\n",
    "# query = 'giraffe OR twiga OR girafe' #added on english keyword\n",
    "# saveTo = 'reticulated giraffe general multilingual'\n",
    "# query_bbox = False\n",
    "\n",
    "# query = 'giraffe OR twiga OR girafe' #added on english keyword\n",
    "# saveTo = 'reticulated giraffe general multilingual africa bbox'\n",
    "# query_bbox = '-18.615646,-34.936608,50.993729,35.266926'\n",
    "\n",
    "#---------------------------------------------------------------------------#\n",
    "# query = 'zebra'\n",
    "# saveTo = 'grevy zebra general'\n",
    "# query_bbox = False\n",
    "\n",
    "# query ='zebra'\n",
    "# saveTo = 'grevy zebra general africa bbox'\n",
    "# query_bbox = '-18.615646,-34.936608,50.993729,35.266926'\n",
    "\n",
    "#---------------------------------------------------------------------------#\n",
    "# query = 'zebra'\n",
    "# saveTo = 'plains zebra general'\n",
    "\n",
    "# query = 'zebra'\n",
    "# saveTo = 'plains zebra general africa bbox'\n",
    "# query_bbox = '-18.615646,-34.936608,50.993729,35.266926'\n"
   ],
   "outputs": [],
   "metadata": {
    "scrolled": true
   }
  },
  {
   "cell_type": "markdown",
   "source": [
    "# Specific Query Terms"
   ],
   "metadata": {}
  },
  {
   "cell_type": "markdown",
   "source": [
    "#### Terms that contain specific species name, as opposed to more general terms"
   ],
   "metadata": {}
  },
  {
   "cell_type": "code",
   "execution_count": null,
   "source": [
    "#query = 'humpback whale'\n",
    "#saveTo = 'humpback whale specific'\n",
    "# query_bbox = False\n",
    "#---------------------------------------------------------------------------\n",
    "\n",
    "# query = 'whale shark'\n",
    "# saveTo = 'whale shark specific'\n",
    "# query_bbox = False\n",
    "\n",
    "# query = 'whale shark'\n",
    "# saveTo = 'whale shark specific bbox'\n",
    "# query_bbox = '-179.8877648511,-35.0428819504,179.9956736908,30.0340921155'\n",
    "\n",
    "# query = 'whale shark OR requin baleine OR tiburon ballena OR butanding'\n",
    "# saveTo = 'whale shark specific multilingual'\n",
    "# query_bbox = False\n",
    "\n",
    "# query = 'whale shark OR requin baleine OR tiburon ballena OR butanding'\n",
    "# saveTo = 'whale shark specific multilingual bbox'\n",
    "# query_bbox = '-179.8877648511,-35.0428819504,179.9956736908,30.0340921155'\n",
    "\n",
    "#---------------------------------------------------------------------------\n",
    "# query= 'iberian lynx'\n",
    "# saveTo='iberian lynx specific'\n",
    "\n",
    "# query= 'iberian lynx, lince iberico'\n",
    "# saveTo= 'iberian lynx specific multilingual'\n",
    "\n",
    "#---------------------------------------------------------------------------\n",
    "# query = \"reticulated giraffe OR somali giraffe\"\n",
    "# saveTo = \"reticulated giraffe specific\"\n",
    "# query_bbox = False\n",
    "\n",
    "# query = \"reticulated giraffe OR somali giraffe\"\n",
    "# saveTo = \"reticulated giraffe specific africa bbox\"\n",
    "# query_bbox = '-18.615646,-34.936608,50.993729,35.266926'\n",
    "\n",
    "#---------------------------------------------------------------------------\n",
    "# query = \"grevy's zebra\"\n",
    "# saveTo = 'grevy zebra specific'\n",
    "# query_bbox = False\n",
    "\n",
    "# query = \"grevy's zebra\"\n",
    "# saveTo = 'grevy zebra specific africa bbox'\n",
    "# query_bbox = '-18.615646,-34.936608,50.993729,35.266926'\n",
    "\n",
    "#---------------------------------------------------------------------------\n",
    "# query = 'plains zebra'\n",
    "# saveTo = 'plains zebra specific'\n",
    "\n",
    "# query = 'plains zebra'\n",
    "# saveTo = 'plains zebra specific africa bbox'\n",
    "# query_bbox = '-18.615646,-34.936608,50.993729,35.266926'"
   ],
   "outputs": [],
   "metadata": {}
  },
  {
   "cell_type": "markdown",
   "source": [
    "# Query Flickr Photos Search API"
   ],
   "metadata": {}
  },
  {
   "cell_type": "markdown",
   "source": [
    "Use these sections to connect to the flickr api and retrieve images via query parameters"
   ],
   "metadata": {}
  },
  {
   "cell_type": "code",
   "execution_count": 22,
   "source": [
    "#to double check what collections/terms you're working with\n",
    "print(query)\n",
    "print(query_bbox)\n",
    "print(saveTo)"
   ],
   "outputs": [
    {
     "output_type": "stream",
     "name": "stdout",
     "text": [
      "whale\n",
      "False\n",
      "humpback whale general - none\n"
     ]
    }
   ],
   "metadata": {}
  },
  {
   "cell_type": "code",
   "execution_count": null,
   "source": [
    "#query for images within time frame (previously \"2019-06-01\", now \"2019-03-01\")\n",
    "date_since = '2019-03-01'\n",
    "res = fr.search(q = query, date_since = date_since, bbox = query_bbox, saveTo = saveTo) #outputs a different number of pages with results retrieved every time you run it "
   ],
   "outputs": [],
   "metadata": {
    "scrolled": true
   }
  },
  {
   "cell_type": "markdown",
   "source": [
    "`FIXME`: Currently, the Flickr search API endpoint is returning a `different number of pages` with results every time you run it."
   ],
   "metadata": {}
  },
  {
   "cell_type": "markdown",
   "source": [
    "# Manual Filtration"
   ],
   "metadata": {}
  },
  {
   "cell_type": "markdown",
   "source": [
    "Below is the cell to perform the manual filtration. Steps:\n",
    "\n",
    "1. Specify amount to filter through (can vary on how many you feel like filtering at the moment)\n",
    "2. The image will display. You will then be prompted if the image is relevant:\n",
    "    - enter 'y' if the image contains the species\n",
    "    - enter 'n' if the image does NOT contain the species\n",
    "    \n",
    "3. If you marked the image as relevant, you will be prompted to mark the image as a wild encounter or captive encounter:\n",
    "    - enter 'y' if the image appears to be of the species in its wild habitat\n",
    "    - enter 'n' if the species is in some sort of captive enclosure (zoo, sanctuary, aquarium, etc)\n",
    "    \n",
    "The 'amount' displayed at the top of each image is how many images you have left to filter through"
   ],
   "metadata": {}
  },
  {
   "cell_type": "code",
   "execution_count": null,
   "source": [
    "#retrieve images from collection specified with saveTo to manually filter for wild encounters\n",
    "amount = 0 # amount to filter through\n",
    "db.doManualFiltration(saveTo, amount) \n",
    "db.convertToUTC(saveTo) #convert dateTaken strings of documents in database to datetime objects"
   ],
   "outputs": [],
   "metadata": {
    "scrolled": true
   }
  },
  {
   "cell_type": "code",
   "execution_count": null,
   "source": [
    "#update/create a collection consisting of wild documents only \n",
    "db.relevantDocuments(saveTo, nameOfDb)"
   ],
   "outputs": [],
   "metadata": {
    "scrolled": true
   }
  },
  {
   "cell_type": "markdown",
   "source": [
    "# Closes Database Connection"
   ],
   "metadata": {}
  },
  {
   "cell_type": "code",
   "execution_count": null,
   "source": [
    "db.close()"
   ],
   "outputs": [],
   "metadata": {
    "scrolled": true
   }
  }
 ],
 "metadata": {
  "interpreter": {
   "hash": "b95528e23b8c37bb0fe660d2d7a1ef498a74e8cf5ec1a53e6a0c10fdd3f8eace"
  },
  "kernelspec": {
   "name": "python3",
   "display_name": "Python 3.9.5 64-bit ('geo_env_ML': conda)"
  },
  "language_info": {
   "codemirror_mode": {
    "name": "ipython",
    "version": 3
   },
   "file_extension": ".py",
   "mimetype": "text/x-python",
   "name": "python",
   "nbconvert_exporter": "python",
   "pygments_lexer": "ipython3",
   "version": "3.9.5"
  }
 },
 "nbformat": 4,
 "nbformat_minor": 4
}