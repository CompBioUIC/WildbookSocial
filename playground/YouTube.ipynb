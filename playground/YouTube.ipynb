{
 "cells": [
  {
   "cell_type": "markdown",
   "metadata": {},
   "source": [
    "### Installing requirements\n",
    "\n",
    "The next cell will install/update all required packages for this project:"
   ]
  },
  {
   "cell_type": "code",
   "execution_count": 1,
   "metadata": {},
   "outputs": [],
   "source": [
    "#to reflect changes made in modules\n",
    "%load_ext autoreload\n",
    "%autoreload 2"
   ]
  },
  {
   "cell_type": "code",
   "execution_count": 2,
   "metadata": {},
   "outputs": [
    {
     "name": "stdout",
     "output_type": "stream",
     "text": [
      "Packages successfully installed and up-to-date.\n"
     ]
    }
   ],
   "source": [
    "!pip -q install --upgrade -r ../requirements.txt\n",
    "print(\"Packages successfully installed and up-to-date.\")"
   ]
  },
  {
   "cell_type": "markdown",
   "metadata": {},
   "source": [
    "### Setting API keys and creating class instances\n",
    "\n",
    "**YT_KEY** = your YouTube API Key.<br>\n",
    "**DB_KEY** remain unchanged."
   ]
  },
  {
   "cell_type": "code",
   "execution_count": 50,
   "metadata": {},
   "outputs": [],
   "source": [
    "DB_KEY =  \n",
    "YT_KEY ="
   ]
  },
  {
   "cell_type": "code",
   "execution_count": 51,
   "metadata": {},
   "outputs": [],
   "source": [
    "import os, sys\n",
    "sys.path.append(os.path.join(sys.path[0], '../'))\n",
    "\n",
    "from wildbook_social import YouTube, Database\n",
    "\n",
    "db = Database(DB_KEY, 'youtube')\n",
    "yt = YouTube(YT_KEY, db)"
   ]
  },
  {
   "cell_type": "markdown",
   "metadata": {},
   "source": [
    "### Specify query term and how many videos to query"
   ]
  },
  {
   "cell_type": "code",
   "execution_count": 52,
   "metadata": {},
   "outputs": [],
   "source": [
    "#uncomment the appropriate query and saveTo term for the species you wish to retrieve results from\n",
    "\n",
    "query = \"Humpback Whales -octonauts, -my top 10, -facts, -learning, -kids, -draw, -art, -cartoon, -toy, -songs, -album, -games\"\n",
    "saveTo = \"humpback whales\"\n",
    "\n",
    "# query = 'whale sharks'# -octonauts, -top 10, -basking, -megalodon, -kids, -cartoon, -feed and grow fish, -pungence, -DIY, -toys, -draw, -gameplay, -hungry shark world, -manta ray, -white shark, -blue'\n",
    "# saveTo = \"new whale sharks test\"\n",
    "\n",
    "# query = 'iberian lynx |lince ibérico -Apex, -LRH, -Playoffs, -Game, -Draw, -Floor, -Music, -Sport, -Puzzle, -MMA, -felt, -kids, -eurasian, -documentary'\n",
    "# saveTo = 'iberian lynx'\n",
    "\n",
    "# query = 'giraffe -diy, -top 10, -kids, -children, -peppa pig, -compilation'#'reticulated giraffe'\n",
    "# saveTo = 'Reticulated Giraffe'\n",
    "\n",
    "#use this one\n",
    "# query = \"zebra|zebras|grevys zebra -warhol, -diy, -DIY, -tutorial, -V3, -V2, -facts\"\n",
    "# saveTo = 'grevys zebra'\n",
    "\n",
    "# query = 'grevys zebra -song, -octonauts, -reviews, -campaign, -facts, -kids, -tycoon, -green, -cartoon, -trust, -pronunciation, -Andy Warhol'\n",
    "# saveTo = 'grevys zebra'\n",
    "\n",
    "# query = \"zebra|zebras|plains zebra|common zebra, -warhol, -diy, -DIY, -tutorial, -V3, -V2, -facts, -wildebeests,-lions, -migration\"\n",
    "# saveTo = 'plains zebras'\n",
    "\n",
    "#can change this value for user preferences (depending on how many results needed)\n",
    "howManyVideosToQuery = 5 #900"
   ]
  },
  {
   "cell_type": "markdown",
   "metadata": {},
   "source": [
    "### Querying and saving\n",
    "\n",
    "The next cell will query the videos from YouTube and automatically save them into MongoDB:"
   ]
  },
  {
   "cell_type": "code",
   "execution_count": 53,
   "metadata": {},
   "outputs": [
    {
     "name": "stdout",
     "output_type": "stream",
     "text": [
      "Working with page 1\n",
      "Done!\n"
     ]
    }
   ],
   "source": [
    "res = yt.search(q=query, limit=howManyVideosToQuery, saveTo=saveTo)"
   ]
  },
  {
   "cell_type": "markdown",
   "metadata": {},
   "source": [
    "### Doing statistics\n",
    "\n",
    "The next cell will run script to get unchecked videos from database one by one for manual checking:"
   ]
  },
  {
   "cell_type": "code",
   "execution_count": 54,
   "metadata": {},
   "outputs": [
    {
     "name": "stdout",
     "output_type": "stream",
     "text": [
      "number of documents with UTC strings: \n",
      "0\n",
      "\n",
      "\n",
      "number of documents with datetime objects: \n",
      "771\n",
      "1: Humpback Whale Feeding Congregation in Monterey Bay!\n"
     ]
    },
    {
     "data": {
      "image/jpeg": "[encoded data removed]",
      "text/html": [
       "\n",
       "        <iframe\n",
       "            width=\"400\"\n",
       "            height=\"300\"\n",
       "            src=\"https://www.youtube.com/embed/cUic5kK8u5c\"\n",
       "            frameborder=\"0\"\n",
       "            allowfullscreen\n",
       "        ></iframe>\n",
       "        "
      ],
      "text/plain": [
       "<IPython.lib.display.YouTubeVideo at 0x123dc04e0>"
      ]
     },
     "metadata": {},
     "output_type": "display_data"
    },
    {
     "name": "stdout",
     "output_type": "stream",
     "text": [
      "Relevant (y/n): y\n",
      "Wild (y/n): y\n",
      "Is there a location? (y/n): y\n",
      "Enter location (city,country): monterey bay\n",
      "Response saved! Location : monterey bay.\n",
      "\n",
      "Response saved! Relevant and Wild.\n",
      "\n",
      "No more items to proceed.\n"
     ]
    }
   ],
   "source": [
    "forQuery = saveTo #query the same collection you are saving data to\n",
    "\n",
    "howManyVideosToGoOver = 1 #change this number to number desired post-testing\n",
    "\n",
    "db.convertToUTC(saveTo) #uncomment this after running it across each collection\n",
    "db.doStatistics(forQuery, howManyVideosToGoOver)"
   ]
  },
  {
   "cell_type": "code",
   "execution_count": 8,
   "metadata": {},
   "outputs": [],
   "source": [
    "#db.getLocations(\"whale sharks test\", howManyVideosToGoOver)"
   ]
  },
  {
   "cell_type": "markdown",
   "metadata": {},
   "source": [
    "With the next command you can see the statistics for passed collection (query term) as a parameter:"
   ]
  },
  {
   "cell_type": "code",
   "execution_count": 9,
   "metadata": {
    "scrolled": true
   },
   "outputs": [],
   "source": [
    "# db.showStatistics(forQuery) #FIXME: need to update how we deal with lists of dates and such in other methods"
   ]
  },
  {
   "cell_type": "code",
   "execution_count": 10,
   "metadata": {},
   "outputs": [],
   "source": [
    "# listOfDates = db.gatherDates(saveTo, YYYY = 2019, MM = 6, DD = 1) # entire list of dates of all posts within time fram\n",
    "# postsPerWeekDict = db.postsPerWeek(YYYY = 2019, MM = 6, DD = 1) # dict = {week date : count of posts}\n",
    "# smas = db.movingAveragePosts(3) #simple moving average data points\n",
    "\n",
    "# print('\\n')\n",
    "# print(listOfDates)\n",
    "# print('\\n')\n",
    "# print(postsPerWeekDict)\n",
    "# # for key in postsPerWeekDict.keys():\n",
    "# #     print(key)\n",
    "\n",
    "# print('\\n')\n",
    "# print(smas)\n",
    "# print('\\n')\n",
    "# for item in smas:\n",
    "#     print(item)"
   ]
  },
  {
   "cell_type": "code",
   "execution_count": 11,
   "metadata": {},
   "outputs": [],
   "source": [
    "# uncomment the appropriate csvName to save all your filtered result locations in a csv folder\n",
    "\n",
    "# csvName = 'humpbackWhales'\n",
    "\n",
    "# csvName = 'whaleSharks'\n",
    "# csvName = 'new whale sharks'\n",
    "\n",
    "# csvName = 'iberianLynx'\n",
    "\n",
    "# csvName = 'grevysZebra'\n",
    "\n",
    "# csvName = 'retGiraffe'\n",
    "\n",
    "# csvName = 'plainsZebra'\n",
    "\n",
    "# db.heatmap(saveTo, csvName)\n",
    "\n",
    "\n"
   ]
  },
  {
   "cell_type": "code",
   "execution_count": 12,
   "metadata": {},
   "outputs": [],
   "source": [
    "# get user countries\n",
    "# collection = saveTo + ' wild'\n",
    "# listOfVideoIDs = db.getUserCountriesIDs(collection)\n",
    "# # print(listOfVideoIDs)\n",
    "# csvFile = 'humpbackWhalesUsers'\n",
    "# yt.channelToCountry(listOfVideoIDs, saveTo, csvFile)\n"
   ]
  },
  {
   "cell_type": "raw",
   "metadata": {},
   "source": [
    "#After running the command above (heatmap), find the .csv file inside the same folder as this playground.\n",
    "#Download the file. Click on the link below, create a new map and insert/upload the csv file."
   ]
  },
  {
   "cell_type": "code",
   "execution_count": 13,
   "metadata": {},
   "outputs": [],
   "source": [
    "# https://www.google.com/maps/d/u/0/ "
   ]
  },
  {
   "cell_type": "code",
   "execution_count": 14,
   "metadata": {},
   "outputs": [],
   "source": [
    "#retrieve all wild documents from current database('saveTo') and store in new db consisting only of wild documents\n",
    "# db.relevantDocuments(saveTo)\n",
    "\n",
    "#for the new whale sharks test collection (to merge both wild collections)\n",
    "# saveTo = 'whale sharks'\n",
    "# db.relevantDocuments(saveTo)"
   ]
  },
  {
   "cell_type": "code",
   "execution_count": 15,
   "metadata": {},
   "outputs": [],
   "source": [
    "db.close()"
   ]
  },
  {
   "cell_type": "code",
   "execution_count": null,
   "metadata": {},
   "outputs": [],
   "source": []
  }
 ],
 "metadata": {
  "kernelspec": {
   "display_name": "Python 3",
   "language": "python",
   "name": "python3"
  },
  "language_info": {
   "codemirror_mode": {
    "name": "ipython",
    "version": 3
   },
   "file_extension": ".py",
   "mimetype": "text/x-python",
   "name": "python",
   "nbconvert_exporter": "python",
   "pygments_lexer": "ipython3",
   "version": "3.7.3"
  },
  "varInspector": {
   "cols": {
    "lenName": 16,
    "lenType": 16,
    "lenVar": 40
   },
   "kernels_config": {
    "python": {
     "delete_cmd_postfix": "",
     "delete_cmd_prefix": "del ",
     "library": "var_list.py",
     "varRefreshCmd": "print(var_dic_list())"
    },
    "r": {
     "delete_cmd_postfix": ") ",
     "delete_cmd_prefix": "rm(",
     "library": "var_list.r",
     "varRefreshCmd": "cat(var_dic_list()) "
    }
   },
   "types_to_exclude": [
    "module",
    "function",
    "builtin_function_or_method",
    "instance",
    "_Feature"
   ],
   "window_display": false
  }
 },
 "nbformat": 4,
 "nbformat_minor": 2
}
