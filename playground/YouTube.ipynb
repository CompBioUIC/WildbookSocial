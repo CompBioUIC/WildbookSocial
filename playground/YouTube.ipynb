{
 "cells": [
  {
   "cell_type": "markdown",
   "metadata": {},
   "source": [
    "### Installing requirements\n",
    "\n",
    "The next cell will install/update all required packages for this project:"
   ]
  },
  {
   "cell_type": "code",
   "execution_count": 21,
   "metadata": {},
   "outputs": [
    {
     "name": "stdout",
     "output_type": "stream",
     "text": [
      "The autoreload extension is already loaded. To reload it, use:\n",
      "  %reload_ext autoreload\n"
     ]
    }
   ],
   "source": [
    "#to reflect changes made in modules\n",
    "%load_ext autoreload\n",
    "%autoreload 2"
   ]
  },
  {
   "cell_type": "code",
   "execution_count": 22,
   "metadata": {},
   "outputs": [
    {
     "name": "stdout",
     "output_type": "stream",
     "text": [
      "Packages successfully installed and up-to-date.\n"
     ]
    }
   ],
   "source": [
    "!pip -q install --upgrade -r ../requirements.txt\n",
    "print(\"Packages successfully installed and up-to-date.\")"
   ]
  },
  {
   "cell_type": "markdown",
   "metadata": {},
   "source": [
    "### Setting API keys and creating class instances\n",
    "\n",
    "**YT_KEY** = your YouTube API Key.<br>\n",
    "**DB_KEY** remain unchanged."
   ]
  },
  {
   "cell_type": "code",
   "execution_count": 23,
   "metadata": {},
   "outputs": [],
   "source": [
    "DB_KEY =  \n",
    "YT_KEY = "
   ]
  },
  {
   "cell_type": "code",
   "execution_count": 24,
   "metadata": {},
   "outputs": [],
   "source": [
    "import os, sys\n",
    "sys.path.append(os.path.join(sys.path[0], '../'))\n",
    "\n",
    "from wildbook_social import YouTube, Database\n",
    "\n",
    "db = Database(DB_KEY, 'youtube')\n",
    "yt = YouTube(YT_KEY, db)"
   ]
  },
  {
   "cell_type": "markdown",
   "metadata": {},
   "source": [
    "### Specify query term and how many videos to query"
   ]
  },
  {
   "cell_type": "code",
   "execution_count": 25,
   "metadata": {},
   "outputs": [],
   "source": [
    "#uncomment the appropriate query and saveTo term for the species you wish to retrieve results from\n",
    "\n",
    "query = \"Humpback Whales -octonauts, -my top 10, -facts, -learning, -kids, -draw, -art, -cartoon, -toy, -songs, -album, -games\"\n",
    "saveTo = \"humpback whales\"\n",
    "# saveTo = \"humpback whales time frame\"\n",
    "\n",
    "# as of 1.02.20 - hit capacity of total whale shark videos \n",
    "#as of 3.15.20 - have gone through all 343 docs in db FIXME: see if we can gather more results \n",
    "# query = 'whale sharks'# -octonauts, -top 10, -basking, -megalodon, -kids, -cartoon, -feed and grow fish, -pungence, -DIY, -toys, -draw, -gameplay, -hungry shark world, -manta ray, -white shark, -blue'\n",
    "# saveTo = 'whale sharks'\n",
    "# saveTo = \"new whale sharks test\"\n",
    "# saveTo = 'whale sharks within timeframe'\n",
    "\n",
    "# query = 'iberian lynx |lince ibérico -Apex, -LRH, -Playoffs, -Game, -Draw, -Floor, -Music, -Sport, -Puzzle, -MMA, -felt, -kids, -eurasian, -documentary'\n",
    "# saveTo = 'iberian lynx'\n",
    "\n",
    "# query = 'giraffe -diy, -top 10, -kids, -children, -peppa pig, -compilation'#'reticulated giraffe'\n",
    "# saveTo = 'Reticulated Giraffe'\n",
    "\n",
    "# query = \"zebra|zebras -warhol, -diy, -DIY, -tutorial, -V3, -V2, -facts\"\n",
    "# saveTo = 'grevys zebra'\n",
    "\n",
    "# use this one\n",
    "# query = 'grevys zebra -song, -octonauts, -reviews, -campaign, -facts, -kids, -tycoon, -green, -cartoon, -trust, -pronunciation, -Andy Warhol'\n",
    "# query = \"grevy's zebra|zebra|zebras -warhol, -diy, -DIY, -tutorial, -V3, -V2,-songs, -music, -madagascar 3, -song, -octonauts, -reviews, -campaign, -facts, -kids, -tycoon, -green, -cartoon, -trust, -pronunciation, -Andy Warhol\"\n",
    "# saveTo = 'grevys zebra'\n",
    "\n",
    "\n",
    "# query = \"zebra|zebras|plains zebra|common zebra, -warhol, -diy, -DIY, -tutorial, -V3, -V2, -facts, -wildebeests,-lions, -migration\"\n",
    "# saveTo = 'plains zebras'\n",
    "\n",
    "#can change this value for user preferences (depending on how many results needed)\n",
    "howManyVideosToQuery = 50 #900"
   ]
  },
  {
   "cell_type": "markdown",
   "metadata": {},
   "source": [
    "### Querying and saving\n",
    "\n",
    "The next cell will query the videos from YouTube and automatically save them into MongoDB:"
   ]
  },
  {
   "cell_type": "code",
   "execution_count": 26,
   "metadata": {},
   "outputs": [
    {
     "name": "stdout",
     "output_type": "stream",
     "text": [
      "Working with page 1\n",
      "Done!\n"
     ]
    }
   ],
   "source": [
    "res = yt.search(q=query, limit=howManyVideosToQuery, saveTo=saveTo)"
   ]
  },
  {
   "cell_type": "markdown",
   "metadata": {},
   "source": [
    "### Doing statistics\n",
    "\n",
    "The next cell will run script to get unchecked videos from database one by one for manual checking:"
   ]
  },
  {
   "cell_type": "code",
   "execution_count": null,
   "metadata": {},
   "outputs": [
    {
     "name": "stdout",
     "output_type": "stream",
     "text": [
      "1: Humpback Whales Maui Hawaii\n"
     ]
    },
    {
     "data": {
      "image/jpeg": "[encoded data removed]",
      "text/html": [
       "\n",
       "        <iframe\n",
       "            width=\"400\"\n",
       "            height=\"300\"\n",
       "            src=\"https://www.youtube.com/embed/aeAVCNPH4ew\"\n",
       "            frameborder=\"0\"\n",
       "            allowfullscreen\n",
       "        ></iframe>\n",
       "        "
      ],
      "text/plain": [
       "<IPython.lib.display.YouTubeVideo at 0x123af0438>"
      ]
     },
     "metadata": {},
     "output_type": "display_data"
    },
    {
     "name": "stdout",
     "output_type": "stream",
     "text": [
      "Relevant (y/n): "
     ]
    }
   ],
   "source": [
    "forQuery = saveTo #query the same collection you are saving data to\n",
    "\n",
    "howManyVideosToGoOver = 1\n",
    "\n",
    "db.doStatistics(forQuery, howManyVideosToGoOver)"
   ]
  },
  {
   "cell_type": "code",
   "execution_count": 28,
   "metadata": {},
   "outputs": [],
   "source": [
    "#db.getLocations(\"whale sharks test\", howManyVideosToGoOver)"
   ]
  },
  {
   "cell_type": "markdown",
   "metadata": {},
   "source": [
    "With the next command you can see the statistics for passed collection (query term) as a parameter:"
   ]
  },
  {
   "cell_type": "code",
   "execution_count": 29,
   "metadata": {
    "scrolled": true
   },
   "outputs": [
    {
     "name": "stdout",
     "output_type": "stream",
     "text": [
      "Out of 5 items, 80.0% are relevant.From those that are relevant, 100.0% are wild. Out of the total, 80.0% are wild\n"
     ]
    },
    {
     "data": {
      "image/png": "[encoded data removed]",
      "text/plain": [
       "<Figure size 1080x360 with 1 Axes>"
      ]
     },
     "metadata": {
      "needs_background": "light"
     },
     "output_type": "display_data"
    }
   ],
   "source": [
    "db.showStatistics(forQuery)"
   ]
  },
  {
   "cell_type": "code",
   "execution_count": 30,
   "metadata": {},
   "outputs": [
    {
     "name": "stdout",
     "output_type": "stream",
     "text": [
      "\n",
      "\n",
      "week number dictionary: \n",
      " {1: datetime.date(2019, 6, 1), 2: datetime.date(2019, 6, 8), 3: datetime.date(2019, 6, 15), 4: datetime.date(2019, 6, 22), 5: datetime.date(2019, 6, 29), 6: datetime.date(2019, 7, 6), 7: datetime.date(2019, 7, 13), 8: datetime.date(2019, 7, 20), 9: datetime.date(2019, 7, 27), 10: datetime.date(2019, 8, 3), 11: datetime.date(2019, 8, 10), 12: datetime.date(2019, 8, 17), 13: datetime.date(2019, 8, 24), 14: datetime.date(2019, 8, 31), 15: datetime.date(2019, 9, 7), 16: datetime.date(2019, 9, 14), 17: datetime.date(2019, 9, 21), 18: datetime.date(2019, 9, 28), 19: datetime.date(2019, 10, 5), 20: datetime.date(2019, 10, 12), 21: datetime.date(2019, 10, 19), 22: datetime.date(2019, 10, 26), 23: datetime.date(2019, 11, 2), 24: datetime.date(2019, 11, 9), 25: datetime.date(2019, 11, 16), 26: datetime.date(2019, 11, 23), 27: datetime.date(2019, 11, 30), 28: datetime.date(2019, 12, 7), 29: datetime.date(2019, 12, 14), 30: datetime.date(2019, 12, 21), 31: datetime.date(2019, 12, 28), 32: datetime.date(2020, 1, 4), 33: datetime.date(2020, 1, 11), 34: datetime.date(2020, 1, 18), 35: datetime.date(2020, 1, 25), 36: datetime.date(2020, 2, 1), 37: datetime.date(2020, 2, 8), 38: datetime.date(2020, 2, 15), 39: datetime.date(2020, 2, 22), 40: datetime.date(2020, 2, 29), 41: datetime.date(2020, 3, 7), 42: datetime.date(2020, 3, 14)}\n",
      "\n",
      "\n",
      "[0, 0, 0, 0, 0, 0, 0, 0, 0, 0, 0, 0, 0, 0, 0, 0, 0, 0, 0, 0, 0, 0, 0, 0, 0, 0, 0, 0, 0, 0, 0, 0, 0, 0, 0, 0, 0, 0, 0, 0, 1, 0]\n",
      "\n",
      "\n",
      "[datetime.date(2020, 3, 11)]\n",
      "\n",
      "\n",
      "{datetime.date(2019, 6, 1): 0, datetime.date(2019, 6, 8): 0, datetime.date(2019, 6, 15): 0, datetime.date(2019, 6, 22): 0, datetime.date(2019, 6, 29): 0, datetime.date(2019, 7, 6): 0, datetime.date(2019, 7, 13): 0, datetime.date(2019, 7, 20): 0, datetime.date(2019, 7, 27): 0, datetime.date(2019, 8, 3): 0, datetime.date(2019, 8, 10): 0, datetime.date(2019, 8, 17): 0, datetime.date(2019, 8, 24): 0, datetime.date(2019, 8, 31): 0, datetime.date(2019, 9, 7): 0, datetime.date(2019, 9, 14): 0, datetime.date(2019, 9, 21): 0, datetime.date(2019, 9, 28): 0, datetime.date(2019, 10, 5): 0, datetime.date(2019, 10, 12): 0, datetime.date(2019, 10, 19): 0, datetime.date(2019, 10, 26): 0, datetime.date(2019, 11, 2): 0, datetime.date(2019, 11, 9): 0, datetime.date(2019, 11, 16): 0, datetime.date(2019, 11, 23): 0, datetime.date(2019, 11, 30): 0, datetime.date(2019, 12, 7): 0, datetime.date(2019, 12, 14): 0, datetime.date(2019, 12, 21): 0, datetime.date(2019, 12, 28): 0, datetime.date(2020, 1, 4): 0, datetime.date(2020, 1, 11): 0, datetime.date(2020, 1, 18): 0, datetime.date(2020, 1, 25): 0, datetime.date(2020, 2, 1): 0, datetime.date(2020, 2, 8): 0, datetime.date(2020, 2, 15): 0, datetime.date(2020, 2, 22): 0, datetime.date(2020, 2, 29): 0, datetime.date(2020, 3, 7): 1, datetime.date(2020, 3, 14): 0}\n",
      "\n",
      "\n",
      "[0.         0.         0.         0.         0.         0.\n",
      " 0.         0.         0.         0.         0.         0.\n",
      " 0.         0.         0.         0.         0.         0.\n",
      " 0.         0.         0.         0.         0.         0.\n",
      " 0.         0.         0.         0.         0.         0.\n",
      " 0.         0.         0.         0.         0.         0.\n",
      " 0.         0.         0.33333333 0.33333333]\n",
      "\n",
      "\n",
      "0.0\n",
      "0.0\n",
      "0.0\n",
      "0.0\n",
      "0.0\n",
      "0.0\n",
      "0.0\n",
      "0.0\n",
      "0.0\n",
      "0.0\n",
      "0.0\n",
      "0.0\n",
      "0.0\n",
      "0.0\n",
      "0.0\n",
      "0.0\n",
      "0.0\n",
      "0.0\n",
      "0.0\n",
      "0.0\n",
      "0.0\n",
      "0.0\n",
      "0.0\n",
      "0.0\n",
      "0.0\n",
      "0.0\n",
      "0.0\n",
      "0.0\n",
      "0.0\n",
      "0.0\n",
      "0.0\n",
      "0.0\n",
      "0.0\n",
      "0.0\n",
      "0.0\n",
      "0.0\n",
      "0.0\n",
      "0.0\n",
      "0.3333333333333333\n",
      "0.3333333333333333\n"
     ]
    }
   ],
   "source": [
    "listOfDates = db.gatherDates(saveTo, YYYY = 2019, MM = 6, DD = 1) # entire list of dates of all posts within time fram\n",
    "postsPerWeekDict = db.postsPerWeek(YYYY = 2019, MM = 6, DD = 1) # dict = {week date : count of posts}\n",
    "smas = db.movingAveragePosts(3) #simple moving average data points\n",
    "\n",
    "print('\\n')\n",
    "print(listOfDates)\n",
    "print('\\n')\n",
    "print(postsPerWeekDict)\n",
    "# for key in postsPerWeekDict.keys():\n",
    "#     print(key)\n",
    "\n",
    "print('\\n')\n",
    "print(smas)\n",
    "print('\\n')\n",
    "for item in smas:\n",
    "    print(item)"
   ]
  },
  {
   "cell_type": "code",
   "execution_count": 31,
   "metadata": {},
   "outputs": [],
   "source": [
    "# uncomment the appropriate csvName to save all your filtered result locations in a csv folder\n",
    "\n",
    "# csvName = 'humpbackWhales'\n",
    "\n",
    "# csvName = 'whaleSharks'\n",
    "# csvName = 'new whale sharks'\n",
    "\n",
    "# csvName = 'iberianLynx'\n",
    "\n",
    "# csvName = 'grevysZebra'\n",
    "\n",
    "# csvName = 'retGiraffe'\n",
    "\n",
    "# csvName = 'plainsZebra'\n",
    "\n",
    "# db.heatmap(saveTo, csvName)\n",
    "\n",
    "\n"
   ]
  },
  {
   "cell_type": "code",
   "execution_count": 32,
   "metadata": {},
   "outputs": [],
   "source": [
    "# get user countries\n",
    "# collection = saveTo + ' wild'\n",
    "# listOfVideoIDs = db.getUserCountriesIDs(collection)\n",
    "# # print(listOfVideoIDs)\n",
    "# csvFile = 'humpbackWhalesUsers'\n",
    "# yt.channelToCountry(listOfVideoIDs, saveTo, csvFile)\n"
   ]
  },
  {
   "cell_type": "raw",
   "metadata": {},
   "source": [
    "#After running the command above (heatmap), find the .csv file inside the same folder as this playground.\n",
    "#Download the file. Click on the link below, create a new map and insert/upload the csv file."
   ]
  },
  {
   "cell_type": "code",
   "execution_count": 33,
   "metadata": {},
   "outputs": [],
   "source": [
    "# https://www.google.com/maps/d/u/0/ "
   ]
  },
  {
   "cell_type": "code",
   "execution_count": 34,
   "metadata": {},
   "outputs": [],
   "source": [
    "#retrieve all wild documents from current database('saveTo') and store in new db consisting only of wild documents\n",
    "db.relevantDocuments(saveTo)\n",
    "\n",
    "#for the new whale sharks test collection (to merge both wild collections)\n",
    "# saveTo = 'whale sharks'\n",
    "# db.relevantDocuments(saveTo)"
   ]
  },
  {
   "cell_type": "code",
   "execution_count": 35,
   "metadata": {},
   "outputs": [],
   "source": [
    "db.close()"
   ]
  },
  {
   "cell_type": "code",
   "execution_count": null,
   "metadata": {},
   "outputs": [],
   "source": []
  },
  {
   "cell_type": "raw",
   "metadata": {},
   "source": []
  }
 ],
 "metadata": {
  "kernelspec": {
   "display_name": "Python 3",
   "language": "python",
   "name": "python3"
  },
  "language_info": {
   "codemirror_mode": {
    "name": "ipython",
    "version": 3
   },
   "file_extension": ".py",
   "mimetype": "text/x-python",
   "name": "python",
   "nbconvert_exporter": "python",
   "pygments_lexer": "ipython3",
   "version": "3.7.3"
  },
  "varInspector": {
   "cols": {
    "lenName": 16,
    "lenType": 16,
    "lenVar": 40
   },
   "kernels_config": {
    "python": {
     "delete_cmd_postfix": "",
     "delete_cmd_prefix": "del ",
     "library": "var_list.py",
     "varRefreshCmd": "print(var_dic_list())"
    },
    "r": {
     "delete_cmd_postfix": ") ",
     "delete_cmd_prefix": "rm(",
     "library": "var_list.r",
     "varRefreshCmd": "cat(var_dic_list()) "
    }
   },
   "types_to_exclude": [
    "module",
    "function",
    "builtin_function_or_method",
    "instance",
    "_Feature"
   ],
   "window_display": false
  }
 },
 "nbformat": 4,
 "nbformat_minor": 2
}
